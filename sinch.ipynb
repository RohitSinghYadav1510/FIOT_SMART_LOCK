{
 "cells": [
  {
   "cell_type": "code",
   "execution_count": 14,
   "metadata": {},
   "outputs": [],
   "source": [
    "import time\n",
    "from time import sleep"
   ]
  },
  {
   "cell_type": "code",
   "execution_count": 15,
   "metadata": {},
   "outputs": [],
   "source": [
    "from sinchsms import SinchSMS"
   ]
  },
  {
   "cell_type": "code",
   "execution_count": 16,
   "metadata": {},
   "outputs": [
    {
     "name": "stdout",
     "output_type": "stream",
     "text": [
      "Sending 'Tum Gandu ho!' to +919690503556\n",
      "Pending\n",
      "Pending\n",
      "Pending\n",
      "Pending\n",
      "Successful\n"
     ]
    }
   ],
   "source": [
    "number = '+919690503556'\n",
    "message = 'Hii Rohit!'\n",
    "\n",
    "client = SinchSMS('2f3e1503-4980-4917-806e-b37fe4f1fa4b','AK+iBJkkN0CfHZt/Upb3fw==' )\n",
    "\n",
    "print(\"Sending '%s' to %s\" % (message, number))\n",
    "response = client.send_message(number, message)\n",
    "message_id = response['messageId']\n",
    "\n",
    "response = client.check_status(message_id)\n",
    "while response['status'] != 'Successful':\n",
    "    print(response['status'])\n",
    "    time.sleep(1)\n",
    "    response = client.check_status(message_id)\n",
    "print(response['status'])"
   ]
  },
  {
   "cell_type": "code",
   "execution_count": null,
   "metadata": {},
   "outputs": [],
   "source": []
  }
 ],
 "metadata": {
  "kernelspec": {
   "display_name": "Python 3",
   "language": "python",
   "name": "python3"
  },
  "language_info": {
   "codemirror_mode": {
    "name": "ipython",
    "version": 3
   },
   "file_extension": ".py",
   "mimetype": "text/x-python",
   "name": "python",
   "nbconvert_exporter": "python",
   "pygments_lexer": "ipython3",
   "version": "3.6.4"
  }
 },
 "nbformat": 4,
 "nbformat_minor": 2
}
